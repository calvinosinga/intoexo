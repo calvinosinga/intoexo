{
 "cells": [
  {
   "cell_type": "code",
   "execution_count": 1,
   "metadata": {},
   "outputs": [],
   "source": [
    "%%capture\n",
    "import numpy as np\n",
    "import matplotlib.pyplot as plt\n",
    "from planetdfq import Planet\n"
   ]
  },
  {
   "cell_type": "code",
   "execution_count": 11,
   "metadata": {},
   "outputs": [],
   "source": [
    "earth_mass = 5.97e24 # kg\n",
    "earth_radius = 6.3e4 # m\n",
    "pa_to_atm = 1/9.86923e-6 # pa / atm"
   ]
  },
  {
   "cell_type": "code",
   "execution_count": 20,
   "metadata": {},
   "outputs": [
    {
     "name": "stdout",
     "output_type": "stream",
     "text": [
      "starting step 0\n",
      "starting step 1000\n",
      "starting step 2000\n",
      "starting step 3000\n",
      "starting step 4000\n",
      "starting step 5000\n",
      "starting step 6000\n",
      "starting step 7000\n",
      "starting step 8000\n",
      "starting step 9000\n",
      "starting step 10000\n",
      "starting step 11000\n",
      "starting step 12000\n",
      "starting step 13000\n",
      "starting step 14000\n",
      "starting step 15000\n",
      "starting step 16000\n",
      "starting step 17000\n",
      "starting step 18000\n",
      "starting step 19000\n",
      "starting step 20000\n",
      "starting step 21000\n",
      "starting step 22000\n",
      "starting step 23000\n",
      "starting step 24000\n",
      "starting step 25000\n",
      "starting step 26000\n",
      "starting step 27000\n",
      "starting step 28000\n",
      "starting step 29000\n",
      "starting step 30000\n",
      "starting step 31000\n",
      "starting step 32000\n",
      "starting step 33000\n",
      "starting step 34000\n",
      "starting step 35000\n",
      "starting step 36000\n",
      "starting step 37000\n",
      "starting step 38000\n",
      "starting step 39000\n",
      "starting step 40000\n",
      "starting step 41000\n",
      "starting step 42000\n",
      "starting step 43000\n",
      "starting step 44000\n",
      "starting step 45000\n",
      "starting step 46000\n",
      "starting step 47000\n",
      "starting step 48000\n",
      "starting step 49000\n",
      "starting step 50000\n",
      "starting step 51000\n",
      "starting step 52000\n",
      "starting step 53000\n",
      "starting step 54000\n",
      "starting step 55000\n",
      "starting step 56000\n",
      "starting step 57000\n",
      "starting step 58000\n",
      "starting step 59000\n",
      "starting step 60000\n",
      "starting step 61000\n",
      "starting step 62000\n",
      "starting step 63000\n",
      "starting step 64000\n",
      "starting step 65000\n",
      "starting step 66000\n",
      "starting step 67000\n",
      "starting step 68000\n",
      "starting step 69000\n",
      "starting step 70000\n",
      "starting step 71000\n",
      "starting step 72000\n",
      "starting step 73000\n",
      "starting step 74000\n",
      "starting step 75000\n",
      "starting step 76000\n",
      "starting step 77000\n",
      "starting step 78000\n",
      "starting step 79000\n",
      "starting step 80000\n",
      "starting step 81000\n",
      "starting step 82000\n",
      "starting step 83000\n",
      "starting step 84000\n",
      "starting step 85000\n",
      "starting step 86000\n",
      "starting step 87000\n",
      "starting step 88000\n",
      "starting step 89000\n",
      "starting step 90000\n",
      "starting step 91000\n",
      "starting step 92000\n",
      "starting step 93000\n",
      "starting step 94000\n",
      "starting step 95000\n",
      "starting step 96000\n",
      "starting step 97000\n",
      "starting step 98000\n"
     ]
    }
   ],
   "source": [
    "ig = Planet()\n",
    "cp = 1.1e5\n",
    "dr = 1e3\n",
    "# under the ideal gas law, the pressure would never reach 0, so we need a stopping pressure\n",
    "# that's a bit higher. The dp values are very small so I kept them pretty close to each other.\n",
    "mass, radius, pressure = ig.calculateMRP(cp, dr, 300, max_steps = 1e5, stop_pressure = 1e5)"
   ]
  },
  {
   "cell_type": "code",
   "execution_count": 21,
   "metadata": {},
   "outputs": [
    {
     "name": "stdout",
     "output_type": "stream",
     "text": [
      "98838\n"
     ]
    }
   ],
   "source": [
    "print(len(pressure))"
   ]
  },
  {
   "cell_type": "code",
   "execution_count": 22,
   "metadata": {},
   "outputs": [
    {
     "data": {
      "text/plain": [
       "Text(0.5, 0, 'radius (ER)')"
      ]
     },
     "execution_count": 22,
     "metadata": {},
     "output_type": "execute_result"
    },
    {
     "data": {
      "image/png": "[encoded data removed]",
      "text/plain": [
       "<Figure size 432x288 with 1 Axes>"
      ]
     },
     "metadata": {
      "needs_background": "light"
     },
     "output_type": "display_data"
    }
   ],
   "source": [
    "plt.plot(radius/earth_radius, mass/earth_mass)\n",
    "plt.loglog()\n",
    "plt.ylabel('mass (EM)')\n",
    "plt.xlabel('radius (ER)')"
   ]
  },
  {
   "cell_type": "code",
   "execution_count": null,
   "metadata": {},
   "outputs": [],
   "source": []
  },
  {
   "cell_type": "code",
   "execution_count": 23,
   "metadata": {},
   "outputs": [
    {
     "data": {
      "text/plain": [
       "Text(0.5, 0, 'radius (ER)')"
      ]
     },
     "execution_count": 23,
     "metadata": {},
     "output_type": "execute_result"
    },
    {
     "data": {
      "image/png": "[encoded data removed]",
      "text/plain": [
       "<Figure size 432x288 with 1 Axes>"
      ]
     },
     "metadata": {
      "needs_background": "light"
     },
     "output_type": "display_data"
    }
   ],
   "source": [
    "plt.plot(radius/earth_radius, pressure/pa_to_atm)\n",
    "plt.loglog()\n",
    "plt.ylabel('pressure (atm)')\n",
    "plt.xlabel('radius (ER)')"
   ]
  },
  {
   "cell_type": "code",
   "execution_count": 26,
   "metadata": {},
   "outputs": [],
   "source": [
    "%%capture\n",
    "# above line captures the output print statements\n",
    "# integrating over a bunch of central pressures for the radius - mass relationship\n",
    "cps = np.linspace(1.0001e5, 1.1e5, 200)\n",
    "surfR, totM = ig.integrateCP(cps, dr, 300, max_steps=1e5, stop_pressure=1e5)"
   ]
  },
  {
   "cell_type": "code",
   "execution_count": 27,
   "metadata": {},
   "outputs": [
    {
     "data": {
      "text/plain": [
       "Text(0, 0.5, 'radius (ER)')"
      ]
     },
     "execution_count": 27,
     "metadata": {},
     "output_type": "execute_result"
    },
    {
     "data": {
      "image/png": "[encoded data removed]",
      "text/plain": [
       "<Figure size 432x288 with 1 Axes>"
      ]
     },
     "metadata": {
      "needs_background": "light"
     },
     "output_type": "display_data"
    }
   ],
   "source": [
    "plt.plot(totM / earth_mass, surfR / earth_radius)\n",
    "plt.loglog()\n",
    "plt.xlabel('mass (EM)')\n",
    "plt.ylabel('radius (ER)')"
   ]
  },
  {
   "cell_type": "code",
   "execution_count": null,
   "metadata": {},
   "outputs": [],
   "source": []
  }
 ],
 "metadata": {
  "interpreter": {
   "hash": "38740d3277777e2cd7c6c2cc9d8addf5118fdf3f82b1b39231fd12aeac8aee8b"
  },
  "kernelspec": {
   "display_name": "Python 3 (ipykernel)",
   "language": "python",
   "name": "python3"
  },
  "language_info": {
   "codemirror_mode": {
    "name": "ipython",
    "version": 3
   },
   "file_extension": ".py",
   "mimetype": "text/x-python",
   "name": "python",
   "nbconvert_exporter": "python",
   "pygments_lexer": "ipython3",
   "version": "3.8.5"
  }
 },
 "nbformat": 4,
 "nbformat_minor": 2
}
